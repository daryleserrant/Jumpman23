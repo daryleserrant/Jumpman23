{
 "cells": [
  {
   "cell_type": "markdown",
   "metadata": {},
   "source": [
    "Gmap plugin for Jupyter required to run notebook. See https://jupyter-gmaps.readthedocs.io/en/latest/index.html for installation instructions. Once installed, get an API key from Google at https://developers.google.com/maps/documentation/geocoding/get-api-key. Once this is done, run the following command in terminal and restart jupyter:\n",
    "\n",
    "jupyter nbextension enable --py gmaps"
   ]
  },
  {
   "cell_type": "code",
   "execution_count": 1,
   "metadata": {},
   "outputs": [],
   "source": [
    "import pandas as pd\n",
    "import numpy as np\n",
    "import matplotlib.pyplot as plt\n",
    "import gmaps\n",
    "import seaborn as sbn\n",
    "import requests\n",
    "import time\n",
    "import math\n",
    "%matplotlib inline"
   ]
  },
  {
   "cell_type": "code",
   "execution_count": 2,
   "metadata": {},
   "outputs": [],
   "source": [
    "# Read Google API Key\n",
    "GOOGLE_API_KEY = None\n",
    "with open('apikey.txt') as f:\n",
    "    GOOGLE_API_KEY = f.readline()\n",
    "    f.close"
   ]
  },
  {
   "cell_type": "code",
   "execution_count": 3,
   "metadata": {},
   "outputs": [],
   "source": [
    "gmaps.configure(api_key=GOOGLE_API_KEY) # Google API key goes here"
   ]
  },
  {
   "cell_type": "code",
   "execution_count": 4,
   "metadata": {},
   "outputs": [],
   "source": [
    "new_york_coordinates = (40.75, -74.00)"
   ]
  },
  {
   "cell_type": "code",
   "execution_count": 5,
   "metadata": {},
   "outputs": [],
   "source": [
    "df = pd.read_csv('analyze_me.csv')"
   ]
  },
  {
   "cell_type": "markdown",
   "metadata": {},
   "source": [
    "First, call df.info() to get a high level overview about the dataset. From the call we see that 7 out of the 18 columns in the dataset contain missing values. These fields are:\n",
    "- place_category\n",
    "- item_name\n",
    "- item_quantity\n",
    "- item_category_name\n",
    "- how_long_it_took_to_order\n",
    "- when_the_Jumpman_arrived_at_pickup\n",
    "- when_the_Jumpman_arrived_at_dropoff"
   ]
  },
  {
   "cell_type": "code",
   "execution_count": 6,
   "metadata": {},
   "outputs": [
    {
     "name": "stdout",
     "output_type": "stream",
     "text": [
      "<class 'pandas.core.frame.DataFrame'>\n",
      "RangeIndex: 5983 entries, 0 to 5982\n",
      "Data columns (total 18 columns):\n",
      "delivery_id                            5983 non-null int64\n",
      "customer_id                            5983 non-null int64\n",
      "jumpman_id                             5983 non-null int64\n",
      "vehicle_type                           5983 non-null object\n",
      "pickup_place                           5983 non-null object\n",
      "place_category                         5100 non-null object\n",
      "item_name                              4753 non-null object\n",
      "item_quantity                          4753 non-null float64\n",
      "item_category_name                     4753 non-null object\n",
      "how_long_it_took_to_order              3038 non-null object\n",
      "pickup_lat                             5983 non-null float64\n",
      "pickup_lon                             5983 non-null float64\n",
      "dropoff_lat                            5983 non-null float64\n",
      "dropoff_lon                            5983 non-null float64\n",
      "when_the_delivery_started              5983 non-null object\n",
      "when_the_Jumpman_arrived_at_pickup     5433 non-null object\n",
      "when_the_Jumpman_left_pickup           5433 non-null object\n",
      "when_the_Jumpman_arrived_at_dropoff    5983 non-null object\n",
      "dtypes: float64(5), int64(3), object(10)\n",
      "memory usage: 841.4+ KB\n"
     ]
    }
   ],
   "source": [
    "df.info()"
   ]
  },
  {
   "cell_type": "markdown",
   "metadata": {},
   "source": [
    "Convert the date fields in the dataset to datetime objects"
   ]
  },
  {
   "cell_type": "code",
   "execution_count": 7,
   "metadata": {},
   "outputs": [],
   "source": [
    "df.when_the_delivery_started = pd.to_datetime(df.when_the_delivery_started)\n",
    "df.when_the_Jumpman_arrived_at_dropoff = pd.to_datetime(df.when_the_Jumpman_arrived_at_dropoff)\n",
    "df.when_the_Jumpman_arrived_at_pickup = pd.to_datetime(df.when_the_Jumpman_arrived_at_pickup)\n",
    "df.when_the_Jumpman_left_pickup = pd.to_datetime(df.when_the_Jumpman_left_pickup)"
   ]
  },
  {
   "cell_type": "markdown",
   "metadata": {},
   "source": [
    "Convert order time to timedelta object"
   ]
  },
  {
   "cell_type": "code",
   "execution_count": 8,
   "metadata": {},
   "outputs": [],
   "source": [
    "df.how_long_it_took_to_order = pd.to_timedelta(df.how_long_it_took_to_order)"
   ]
  },
  {
   "cell_type": "markdown",
   "metadata": {},
   "source": [
    "Let's do some quick spot checking of the pickup and drop off lat lon coordinates. There should not be any places outside of New York City. Let's verify this "
   ]
  },
  {
   "cell_type": "code",
   "execution_count": 9,
   "metadata": {
    "scrolled": true
   },
   "outputs": [
    {
     "name": "stdout",
     "output_type": "stream",
     "text": [
      "(0, 18)\n",
      "(0, 18)\n",
      "(0, 18)\n",
      "(0, 18)\n"
     ]
    }
   ],
   "source": [
    "print(df[(df.pickup_lat > 42) | (df.pickup_lat < 40)].shape)\n",
    "print(df[(df.pickup_lon < -75) | (df.pickup_lon > -72)].shape)\n",
    "print(df[(df.dropoff_lat > 42) | (df.dropoff_lat < 40)].shape)\n",
    "print(df[(df.dropoff_lon < -75) | (df.dropoff_lon > -72)].shape)"
   ]
  },
  {
   "cell_type": "markdown",
   "metadata": {},
   "source": [
    "Based on my understanding of the problem, the order of events for purchase and delivery of products goes like this:\n",
    "1. delivery starts following request by customer\n",
    "2. jumpman arrives at pickup location and orders item(s)\n",
    "3. jumpman leaves the pickup location\n",
    "4. jumpman arrives at customer location and drop off item\n",
    "\n",
    "Inspect the timestamps of the date fields to make sure this order is enforced. Any rows that do not follow this order is indicative of a data integrity issue."
   ]
  },
  {
   "cell_type": "code",
   "execution_count": 10,
   "metadata": {},
   "outputs": [],
   "source": [
    "date_columns = ['when_the_delivery_started','when_the_Jumpman_arrived_at_pickup',\n",
    "                'when_the_Jumpman_left_pickup','when_the_Jumpman_arrived_at_dropoff']"
   ]
  },
  {
   "cell_type": "code",
   "execution_count": 11,
   "metadata": {},
   "outputs": [
    {
     "name": "stdout",
     "output_type": "stream",
     "text": [
      "# of rows when_the_delivery_started > when_the_Jumpman_arrived_at_pickup: 501\n",
      "# of rows when_the_delivery_started > when_the_Jumpman_left_pickup: 2\n",
      "# of rows when_the_delivery_started > when_the_Jumpman_arrived_at_dropoff: 0\n",
      "# of rows when_the_Jumpman_arrived_at_pickup > when_the_Jumpman_left_pickup: 0\n",
      "# of rows when_the_Jumpman_arrived_at_pickup > when_the_Jumpman_arrived_at_dropoff: 0\n",
      "# of rows when_the_Jumpman_left_pickup > when_the_Jumpman_arrived_at_dropoff: 0\n"
     ]
    }
   ],
   "source": [
    "for i in range(len(date_columns)):\n",
    "    cola = date_columns[i]\n",
    "    for j in range(i+1, len(date_columns)):\n",
    "        colb = date_columns[j]\n",
    "        sze = df[df[cola] > df[colb]].shape[0]\n",
    "        print(\"# of rows {0} > {1}: {2}\".format(cola, colb, sze))"
   ]
  },
  {
   "cell_type": "markdown",
   "metadata": {},
   "source": [
    "So 503 rows have data integrity issues. The delivery start and pickup arrival timestamps are not consistent with the other rows in the dataset. These inconistency will impact our ability to properly measure the delivery times for items. "
   ]
  },
  {
   "cell_type": "markdown",
   "metadata": {},
   "source": [
    "Are these integrity issues specific to a few jumpmen or are they indicative of a much larger issue? "
   ]
  },
  {
   "cell_type": "code",
   "execution_count": 12,
   "metadata": {},
   "outputs": [],
   "source": [
    "bad_data = df[(df.when_the_delivery_started > df.when_the_Jumpman_arrived_at_pickup) | (df.when_the_delivery_started > df.when_the_Jumpman_left_pickup)]"
   ]
  },
  {
   "cell_type": "code",
   "execution_count": 13,
   "metadata": {},
   "outputs": [
    {
     "data": {
      "text/plain": [
       "41.69550173010381"
      ]
     },
     "execution_count": 13,
     "metadata": {},
     "output_type": "execute_result"
    }
   ],
   "source": [
    "# What percentage of jumpman completed these orders?\n",
    "bad_data.jumpman_id.unique().shape[0] / df.jumpman_id.unique().shape[0] * 100"
   ]
  },
  {
   "cell_type": "markdown",
   "metadata": {},
   "source": [
    "**My Recommendation for CEO/CTO**: Investigate how these timestamps are generated. My guess is that the Jumpmen are manually recording them (perhaps in an app of some sort) as they receive, pickup, and complete order requests. It that's the case we need to make sure the jumpmen are trained on the proper procedure for time logging. The Jumpmen may also have been enterred improperly by mistake (perhaps in a rush to get the deliveries done). Roughly 42% of the jumpmen in the dataset made this error so it's a pretty big deal that this gets resolved. What might also help if they are entering this in an app is to add basic data validation functionality to the app to ensure that the dates make sense before they get stored in the Jumpman23 database."
   ]
  },
  {
   "cell_type": "markdown",
   "metadata": {},
   "source": [
    "Exclude bad data from the analysis"
   ]
  },
  {
   "cell_type": "code",
   "execution_count": 14,
   "metadata": {},
   "outputs": [],
   "source": [
    "analysis_df = df[~df.index.isin(bad_data.index)].copy()"
   ]
  },
  {
   "cell_type": "markdown",
   "metadata": {},
   "source": [
    "**Volume Metrics**\n",
    "\n",
    "We'll create some fields we can use to produce metrics and visualizations on order volume"
   ]
  },
  {
   "cell_type": "code",
   "execution_count": 15,
   "metadata": {},
   "outputs": [],
   "source": [
    "analysis_df['delivery_day'] = analysis_df.when_the_delivery_started.dt.day\n",
    "analysis_df['delivery_hour'] = analysis_df.when_the_delivery_started.dt.hour\n",
    "analysis_df['delivery_dayofweek'] = analysis_df.when_the_delivery_started.dt.dayofweek\n",
    "analysis_df['delivery_week'] = analysis_df.when_the_delivery_started.dt.week"
   ]
  },
  {
   "cell_type": "code",
   "execution_count": 16,
   "metadata": {},
   "outputs": [],
   "source": [
    "delivery_df = analysis_df[['delivery_id','delivery_hour','delivery_day',\n",
    "                           'delivery_dayofweek','delivery_week','dropoff_lat',\n",
    "                           'dropoff_lon','pickup_lat','pickup_lon']].drop_duplicates()"
   ]
  },
  {
   "cell_type": "markdown",
   "metadata": {},
   "source": [
    "What's the average number of orders per day and per week?"
   ]
  },
  {
   "cell_type": "code",
   "execution_count": 17,
   "metadata": {},
   "outputs": [
    {
     "name": "stdout",
     "output_type": "stream",
     "text": [
      "Average orders per day: 159.20\n",
      "Average orders per week: 955.20\n"
     ]
    }
   ],
   "source": [
    "print(\"Average orders per day: {:3.2f}\".format(delivery_df.groupby('delivery_day')['delivery_id'].count().mean()))\n",
    "print(\"Average orders per week: {:3.2f}\".format(delivery_df.groupby('delivery_week')['delivery_id'].count().mean()))"
   ]
  },
  {
   "cell_type": "markdown",
   "metadata": {},
   "source": [
    "Create plot of the average number of orders per hour."
   ]
  },
  {
   "cell_type": "code",
   "execution_count": 18,
   "metadata": {},
   "outputs": [
    {
     "data": {
      "image/png": "[encoded data removed]",
      "text/plain": [
       "<Figure size 864x432 with 1 Axes>"
      ]
     },
     "metadata": {
      "needs_background": "light"
     },
     "output_type": "display_data"
    }
   ],
   "source": [
    "hourly_orders = delivery_df.groupby(['delivery_day','delivery_hour'])['delivery_id'].count().groupby('delivery_hour').mean()\n",
    "for hr in range(24):\n",
    "    if hr not in hourly_orders:\n",
    "        hourly_orders[hr] = 0\n",
    "hourly_orders = hourly_orders.sort_index()\n",
    "plt.figure(figsize=(12,6))\n",
    "sbn.lineplot(x = hourly_orders.index, y=hourly_orders.values, color=\"dimgray\")\n",
    "plt.fill_between(x=range(24),y1 = 0, y2=hourly_orders.values, color=\"dimgray\",alpha=0.5)\n",
    "plt.title('Order Volume By Hour',fontsize=16)\n",
    "plt.xticks(range(24))\n",
    "plt.xlabel('Hour of Day',fontsize=13)\n",
    "plt.ylabel('Average Orders',fontsize=13);"
   ]
  },
  {
   "cell_type": "markdown",
   "metadata": {},
   "source": [
    "Create of average number of orders per week"
   ]
  },
  {
   "cell_type": "code",
   "execution_count": 19,
   "metadata": {
    "scrolled": false
   },
   "outputs": [
    {
     "data": {
      "image/png": "[encoded data removed]",
      "text/plain": [
       "<Figure size 864x432 with 1 Axes>"
      ]
     },
     "metadata": {
      "needs_background": "light"
     },
     "output_type": "display_data"
    }
   ],
   "source": [
    "weekly_orders = delivery_df.groupby(['delivery_week','delivery_dayofweek'])['delivery_id'].count().groupby('delivery_dayofweek').mean()\n",
    "for dy in range(7):\n",
    "    if dy not in weekly_orders:\n",
    "        weekly_orders[dy] = 0\n",
    "weekly_orders = weekly_orders.sort_index()\n",
    "plt.figure(figsize=(12,6))\n",
    "sbn.lineplot(x = weekly_orders.index, y=weekly_orders.values, color=\"dimgray\")\n",
    "plt.fill_between(x=range(7),y1 = 0, y2=weekly_orders.values, color=\"dimgray\",alpha=0.5)\n",
    "plt.title('Order Volume By Week',fontsize=16)\n",
    "plt.xticks(ticks=range(7),labels=['Sun','Mon','Tue','Wed','Thur','Fri','Sat'])\n",
    "plt.xlabel('Day of Week',fontsize=13)\n",
    "plt.ylabel('Average Orders',fontsize=13);"
   ]
  },
  {
   "cell_type": "markdown",
   "metadata": {},
   "source": [
    "According to the visualizations above, peak hour for orders is 7PM EST. What's also interesting is that the order volume increase in number later in the week starting on Thursday and reaches it's peak on Saturday."
   ]
  },
  {
   "cell_type": "markdown",
   "metadata": {},
   "source": [
    "Plot a heatmap of the delivery orders by pickup location for the entire dataset. Hotspots around lower manhattan area indicates that's where a large amount of orders appear to concentrate."
   ]
  },
  {
   "cell_type": "code",
   "execution_count": 20,
   "metadata": {},
   "outputs": [
    {
     "data": {
      "application/vnd.jupyter.widget-view+json": {
       "model_id": "f5089d2beb1442c18b6256ce375bf610",
       "version_major": 2,
       "version_minor": 0
      },
      "text/plain": [
       "Figure(layout=FigureLayout(height='420px'))"
      ]
     },
     "metadata": {},
     "output_type": "display_data"
    }
   ],
   "source": [
    "fig = gmaps.figure(center=new_york_coordinates, zoom_level=11.9)\n",
    "fig.add_layer(gmaps.heatmap_layer(delivery_df[['pickup_lat','pickup_lon']]))\n",
    "fig"
   ]
  },
  {
   "cell_type": "code",
   "execution_count": null,
   "metadata": {},
   "outputs": [],
   "source": []
  },
  {
   "cell_type": "markdown",
   "metadata": {},
   "source": [
    "**Dropoff location heatmaps**"
   ]
  },
  {
   "cell_type": "markdown",
   "metadata": {},
   "source": [
    "Morning Heatmap. In the morning, deliveries are concentrated just North of Bowery"
   ]
  },
  {
   "cell_type": "code",
   "execution_count": 21,
   "metadata": {},
   "outputs": [
    {
     "data": {
      "application/vnd.jupyter.widget-view+json": {
       "model_id": "d5a934e56f3346078f277cf60cd139d1",
       "version_major": 2,
       "version_minor": 0
      },
      "text/plain": [
       "Figure(layout=FigureLayout(height='420px'))"
      ]
     },
     "metadata": {},
     "output_type": "display_data"
    }
   ],
   "source": [
    "fig = gmaps.figure(center=new_york_coordinates, zoom_level=11.9)\n",
    "fig.add_layer(gmaps.heatmap_layer(delivery_df[(delivery_df.delivery_hour >= 0) & (delivery_df.delivery_hour < 12)][['dropoff_lat','dropoff_lon']]))\n",
    "fig"
   ]
  },
  {
   "cell_type": "markdown",
   "metadata": {},
   "source": [
    "Afternoon Heatmap. In the afternoon, deliveries spread out to most of Lower and Midtown Manhattan, and Chelsea."
   ]
  },
  {
   "cell_type": "code",
   "execution_count": 22,
   "metadata": {},
   "outputs": [
    {
     "data": {
      "application/vnd.jupyter.widget-view+json": {
       "model_id": "b5021c2cd3f44026a50eeb4798e3e415",
       "version_major": 2,
       "version_minor": 0
      },
      "text/plain": [
       "Figure(layout=FigureLayout(height='420px'))"
      ]
     },
     "metadata": {},
     "output_type": "display_data"
    }
   ],
   "source": [
    "fig = gmaps.figure(center=new_york_coordinates, zoom_level=11.9)\n",
    "fig.add_layer(gmaps.heatmap_layer(delivery_df[(delivery_df.delivery_hour >= 12) & (delivery_df.delivery_hour < 18)][['dropoff_lat','dropoff_lon']]))\n",
    "fig"
   ]
  },
  {
   "cell_type": "markdown",
   "metadata": {},
   "source": [
    "Evening Heatmap. In the evening, concentrated deliveries in small pockets in lower manhattan"
   ]
  },
  {
   "cell_type": "code",
   "execution_count": 23,
   "metadata": {},
   "outputs": [
    {
     "data": {
      "application/vnd.jupyter.widget-view+json": {
       "model_id": "f07380910a0349c5907cd7379d0c45df",
       "version_major": 2,
       "version_minor": 0
      },
      "text/plain": [
       "Figure(layout=FigureLayout(height='420px'))"
      ]
     },
     "metadata": {},
     "output_type": "display_data"
    }
   ],
   "source": [
    "fig = gmaps.figure(center=new_york_coordinates, zoom_level=11.9)\n",
    "fig.add_layer(gmaps.heatmap_layer(delivery_df[(delivery_df.delivery_hour >= 18) & (delivery_df.delivery_hour < 24)][['dropoff_lat','dropoff_lon']]))\n",
    "fig"
   ]
  },
  {
   "cell_type": "markdown",
   "metadata": {},
   "source": [
    "**Delivery Logistics**"
   ]
  },
  {
   "cell_type": "code",
   "execution_count": 24,
   "metadata": {},
   "outputs": [
    {
     "data": {
      "image/png": "[encoded data removed]",
      "text/plain": [
       "<Figure size 864x432 with 1 Axes>"
      ]
     },
     "metadata": {
      "needs_background": "light"
     },
     "output_type": "display_data"
    }
   ],
   "source": [
    "plt.figure(figsize=(12,6))\n",
    "vehicle_df = analysis_df.vehicle_type.value_counts(normalize=True)\n",
    "sbn.barplot(x=vehicle_df.index, y=vehicle_df.values, color=\"dimgray\")\n",
    "plt.title('Jumpmen Vehicle of Choice',fontsize=16)\n",
    "plt.xlabel('Vehicle Type',fontsize=13)\n",
    "plt.ylabel('Relative Frequency',fontsize=13);"
   ]
  },
  {
   "cell_type": "markdown",
   "metadata": {},
   "source": [
    "Bicycles appear to be the Jumpmen vehicle of choice"
   ]
  },
  {
   "cell_type": "code",
   "execution_count": null,
   "metadata": {},
   "outputs": [],
   "source": []
  }
 ],
 "metadata": {
  "kernelspec": {
   "display_name": "Python 3",
   "language": "python",
   "name": "python3"
  },
  "language_info": {
   "codemirror_mode": {
    "name": "ipython",
    "version": 3
   },
   "file_extension": ".py",
   "mimetype": "text/x-python",
   "name": "python",
   "nbconvert_exporter": "python",
   "pygments_lexer": "ipython3",
   "version": "3.7.3"
  }
 },
 "nbformat": 4,
 "nbformat_minor": 2
}
